{
 "cells": [
  {
   "cell_type": "markdown",
   "id": "89af1cf1",
   "metadata": {
    "scrolled": false
   },
   "source": [
    "# Natbat Spectrogram Analysis"
   ]
  },
  {
   "cell_type": "markdown",
   "id": "ab2fc972",
   "metadata": {},
   "source": [
    "Importing the libraries needed for the whole python script."
   ]
  },
  {
   "cell_type": "code",
   "execution_count": null,
   "id": "3542e51b",
   "metadata": {},
   "outputs": [],
   "source": [
    "import os\n",
    "import wave\n",
    "import matplotlib.pyplot as plt\n",
    "import pylab\n",
    "import imageio\n",
    "import cv2\n",
    "import numpy as np\n",
    "from os import listdir\n",
    "from os.path import isfile, join"
   ]
  },
  {
   "cell_type": "markdown",
   "id": "e08c6042",
   "metadata": {},
   "source": [
    "## Defining paths and stuff\n",
    "In this part we define the directories we're working out of, where we're saving and the template being used.\n",
    "\n",
    "Make sure this script is saved in the same location as the call template and the audio files being analysed.\n",
    "\n",
    "This next coding block is the only place where the person running this needs to input something, apart from the scaling factor which may want to be adjusted.\n",
    "To change:\n",
    "\n",
    "path                    - where the python file, call template and audio files are saved  \n",
    "\n",
    "path2                   - where the spectrogram files are saved, MUST be a sub folder of the path\n",
    "\n",
    "sub_folder              - same location as path2 just written differently, just input the sub folder name\n",
    "\n",
    "sub_folder2             - a second sub folder within the sub_folder\n",
    "\n",
    "call_template           - change for which bat you're interested in, MUST be saved with audio files and this script"
   ]
  },
  {
   "cell_type": "code",
   "execution_count": null,
   "id": "da4f98b0",
   "metadata": {},
   "outputs": [],
   "source": [
    "#Directory and file paths - INPUT the directory location of the audio files and run this script from the same place\n",
    "\n",
    "# Where the audio files and python script are saved\n",
    "path = \"C:\\\\Users\\\\b8tay\\\\Downloads\\\\barn_testing\" # this is the saved location of the .wav files\n",
    "files = [f for f in listdir(path) if isfile(join(path, f)) and f.endswith('.wav')] # ensures only .wav files are used\n",
    "\n",
    "# The path for the spectrogram images\n",
    "path2 = \"C:\\\\Users\\\\b8tay\\\\Downloads\\\\barn_testing\\\\spec_images\" # this is the saved location of the spectrogram images\n",
    "spectrograms = [d for d in listdir(path2) if isfile(join(path2, d)) and d.endswith('.png')] # only .png files used\n",
    "\n",
    "# The sub folders used when saving the images\n",
    "sub_folder = os.path.join(path, 'spec_images/')  # for saving images in a sub folder\n",
    "sub_folder2 = os.path.join(path, 'spec_images\\identifying/')  # saves images in another sub folder\n",
    "\n",
    "\n",
    "# Removing the .wav/.png from the end of a file name\n",
    "# The spec one is not needed as used .cv2 instead to save but audio needed otherwise named: file.wav.png which i dont like\n",
    "audio_no_ext = [\".\".join(files.split(\".\")[:-1]) for files in os.listdir() if os.path.isfile(files)]\n",
    "spectrogram_no_ext = [\".\".join(spectrograms.split(\".\")[:-1]) for spectrograms in os.listdir() if os.path.isfile(spectrograms)]\n",
    "\n",
    "# This defines and shows the template being used later\n",
    "call_template = 'noctule_zoomed_in.png'    # change for different species of bats, get from tagged data\n",
    "img = imageio.imread(call_template)\n",
    "plt.imshow(img)"
   ]
  },
  {
   "cell_type": "markdown",
   "id": "88eafe35",
   "metadata": {},
   "source": [
    "## Looping over the data\n",
    "In this part we loop over the audio files within the specified directory and create a spectrogram of them which is saved as a .png file.\n"
   ]
  },
  {
   "cell_type": "code",
   "execution_count": null,
   "id": "34764dfa",
   "metadata": {
    "scrolled": true
   },
   "outputs": [],
   "source": [
    "for i in range(0, len(files)):\n",
    "    audio = (audio_no_ext[i])\n",
    "    img_spec = (audio_no_ext[i]+'.png')\n",
    "    \n",
    "    # plot a spectrogram from the audio file\n",
    "    def graph_spectrogram(wav_file):\n",
    "        sound_info, frame_rate = get_wav_info(wav_file)\n",
    "        pylab.figure(num=None, figsize=(19, 12))\n",
    "        pylab.plot\n",
    "        pylab.title('Spectrogram of %r' % wav_file)\n",
    "        pylab.specgram(sound_info, Fs=frame_rate)\n",
    "        plt.xlim(-1,12) # normalising the x and y axis means that the image will always be the same size\n",
    "        plt.ylim(0,130000)\n",
    "        plt.xlabel('Time (seconds)')\n",
    "        plt.ylabel('Frequency (Hz)')\n",
    "    \n",
    "    def get_wav_info(wav_file):\n",
    "        wav = wave.open(wav_file, 'r')\n",
    "        frames = wav.readframes(-1)\n",
    "        sound_info = pylab.frombuffer(frames, 'int16')\n",
    "        frame_rate = wav.getframerate()\n",
    "        wav.close()\n",
    "        return sound_info, frame_rate\n",
    "    \n",
    "    graph_spectrogram(audio_no_ext[i] + '.wav') #plots spectrogram of .wav file\n",
    "    plt.savefig(sub_folder + img_spec)  # saves fig of audio spectrogram"
   ]
  },
  {
   "cell_type": "markdown",
   "id": "6e8c196b",
   "metadata": {},
   "source": [
    " Since the axis are the same for every single plot, the image axis and plot axis will always be equal\n",
    " \n",
    " 100 on y axis image = top of spectrogram plot for all audio files"
   ]
  },
  {
   "cell_type": "markdown",
   "id": "da90744c",
   "metadata": {},
   "source": [
    "## Testing to make sure when I loop over the .png image files that they display correctly\n",
    "This code will show just one of them but it checks the format"
   ]
  },
  {
   "cell_type": "code",
   "execution_count": null,
   "id": "2020c080",
   "metadata": {},
   "outputs": [],
   "source": [
    "for i in range(0, len(spectrograms)):\n",
    "    l = imageio.imread(sub_folder+spectrograms[i])\n",
    "    plt.imshow(l)"
   ]
  },
  {
   "cell_type": "markdown",
   "id": "a7899b57",
   "metadata": {},
   "source": [
    "## Variable Assignments\n",
    "As there are alot of variables with similar names, it can be quite hard to remember which is which so this is a list to refer back to"
   ]
  },
  {
   "cell_type": "code",
   "execution_count": null,
   "id": "ba0bbff8",
   "metadata": {
    "scrolled": false
   },
   "outputs": [],
   "source": [
    "#print(spectrogram_no_ext[1])              # file name without .png\n",
    "#print(spectrograms[1])                    # gives the file name place no. [1] in the array\n",
    "#print(spectrogram_no_ext[1] + '.png')     # also gives file name\n",
    "#print(sub_folder+spectrograms[1])         # gives file location\n",
    "#print(spectrograms)                       # gives all .png files in an array\n",
    "#print(sub_folder2)                        # identifying/...\n",
    "#print(sub_folder + spectrograms[1])       # full file location and name (within spec_images sub folder) \n",
    "#print(sub_folder2 + spectrograms[1])      # full file location and name (within identify sub folder)"
   ]
  },
  {
   "cell_type": "markdown",
   "id": "567666ad",
   "metadata": {},
   "source": [
    "## Template Matching\n",
    "This plots the image of the spectrogram and then does a cross correlation analysis via template matching to identify parts \n",
    "of the image where there's a match\n",
    "\n",
    "Click in the middle of some code (i.e. matchTemplate) and press shift and tab for more info\n"
   ]
  },
  {
   "cell_type": "code",
   "execution_count": null,
   "id": "621d9b24",
   "metadata": {},
   "outputs": [],
   "source": [
    "#loops over each image and applies the template matching and saves the identified plot images into the identifying folder\n",
    "\n",
    "for i in range(0, len(spectrograms)):\n",
    "    spectro = (sub_folder + spectrograms[i]) # finds the spectrogram .png files in the spec_images folder \n",
    "\n",
    "    # reads the images\n",
    "    img = cv2.imread(spectro)                      # reads each image in\n",
    "    gray = cv2.cvtColor(img, cv2.COLOR_BGR2GRAY)\n",
    "    template = cv2.imread(call_template,0)         # reads the template in\n",
    "    \n",
    "    # runs template matching to get the minimum value\n",
    "    res = cv2.matchTemplate(gray, template, cv2.TM_SQDIFF_NORMED) #sqdiff = square difference method\n",
    "    min_val, max_val, min_loc, max_loc = cv2.minMaxLoc(res)\n",
    "    \n",
    "    # create threshold from minimum value and finds where sqdiff is less than the thresh\n",
    "    min_thresh = (min_val + 1e-6) * 1.2          # 1.3 is basically the scaling factor\n",
    "    \"\"\"\n",
    "    min_thresh is adjusted via scaling factor i.e. 1.6, this was done manually for the first audio recording analysed\n",
    "    the higher the scaling factor the more \"leeway\" it gives so good for data with some variability\n",
    "    if set to 1 would only identify something that is pixel perfect which for bats won't work\n",
    "    Set too high and it will identify things not there\n",
    "    Calls like a noctule where its a straight line and looks like background noise could be more challenging\n",
    "    \"\"\"\n",
    "    match_locations = np.where(res<=min_thresh)\n",
    "    \n",
    "    \n",
    "    # draw the template match box(es)\n",
    "    w, h = template.shape[::-1]\n",
    "    for (x, y) in zip(match_locations[1], match_locations[0]):\n",
    "        cv2.rectangle(img, (x, y), (x+w, y+h), [0,255,255], 1)\n",
    "    \n",
    "    # save the images into my 'identifying' folder\n",
    "    new_image =  spectrograms[i]\n",
    "    cv2.imwrite(sub_folder2 + spectrograms[i], img)"
   ]
  },
  {
   "cell_type": "code",
   "execution_count": null,
   "id": "c80dd376",
   "metadata": {},
   "outputs": [],
   "source": []
  }
 ],
 "metadata": {
  "kernelspec": {
   "display_name": "Python 3",
   "language": "python",
   "name": "python3"
  },
  "language_info": {
   "codemirror_mode": {
    "name": "ipython",
    "version": 3
   },
   "file_extension": ".py",
   "mimetype": "text/x-python",
   "name": "python",
   "nbconvert_exporter": "python",
   "pygments_lexer": "ipython3",
   "version": "3.8.8"
  }
 },
 "nbformat": 4,
 "nbformat_minor": 5
}
